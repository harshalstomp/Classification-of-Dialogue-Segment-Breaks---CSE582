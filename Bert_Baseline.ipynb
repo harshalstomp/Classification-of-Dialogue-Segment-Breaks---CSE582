{
 "cells": [
  {
   "cell_type": "code",
   "execution_count": 9,
   "id": "898a6292-72d7-4dc1-a56e-fcef1bb8798a",
   "metadata": {},
   "outputs": [],
   "source": [
    "import torch\n",
    "import pandas as pd\n",
    "from transformers import BertTokenizer, BertForSequenceClassification, AdamW\n",
    "from sklearn.metrics import classification_report\n",
    "from torch.utils.data import DataLoader, TensorDataset"
   ]
  },
  {
   "cell_type": "code",
   "execution_count": 10,
   "id": "37a0b60e-737d-46df-8fe6-dc52e2b81e80",
   "metadata": {},
   "outputs": [],
   "source": [
    "# Load train and test data\n",
    "train_data = pd.read_csv(\"train.csv\")\n",
    "test_data = pd.read_csv(\"test.csv\")\n",
    "device = torch.device(\"cuda\" if torch.cuda.is_available() else \"cpu\")"
   ]
  },
  {
   "cell_type": "code",
   "execution_count": 11,
   "id": "80b16e2a-0530-4df5-9481-b2701120755e",
   "metadata": {},
   "outputs": [
    {
     "name": "stdout",
     "output_type": "stream",
     "text": [
      "cuda\n"
     ]
    }
   ],
   "source": [
    "print(device)"
   ]
  },
  {
   "cell_type": "code",
   "execution_count": null,
   "id": "26c87120-822f-4233-9aec-95b664a66496",
   "metadata": {},
   "outputs": [],
   "source": [
    "model_name = 'bert-base-uncased'\n",
    "tokenizer = BertTokenizer.from_pretrained(model_name)\n",
    "model = BertForSequenceClassification.from_pretrained(model_name, num_labels=2)\n",
    "model.to(device)"
   ]
  },
  {
   "cell_type": "code",
   "execution_count": 17,
   "id": "87400f21-8821-4c14-8d92-f1e590d2dbe0",
   "metadata": {},
   "outputs": [
    {
     "name": "stdout",
     "output_type": "stream",
     "text": [
      "Epoch 1/5, Average Loss: 0.2019\n",
      "Epoch 2/5, Average Loss: 0.1713\n",
      "Epoch 3/5, Average Loss: 0.1367\n",
      "Epoch 4/5, Average Loss: 0.1111\n",
      "Epoch 5/5, Average Loss: 0.0942\n"
     ]
    }
   ],
   "source": [
    "def encode_data(data):\n",
    "    inputs = tokenizer(data['utterance1'].tolist(), \n",
    "                       data['utterance2'].tolist(), \n",
    "                       padding=True, \n",
    "                       truncation=True, \n",
    "                       return_tensors='pt')\n",
    "    labels = torch.tensor(data['label'].tolist())\n",
    "    return inputs.to(device), labels.to(device)\n",
    "\n",
    "train_inputs, train_labels = encode_data(train_data)\n",
    "train_dataset = TensorDataset(train_inputs['input_ids'], train_inputs['attention_mask'], train_labels)\n",
    "train_dataloader = DataLoader(train_dataset, batch_size=8, shuffle=True)\n",
    "\n",
    "# Fine-tune BERT model\n",
    "optimizer = torch.optim.AdamW(model.parameters(), lr=5e-5)\n",
    "num_epochs = 5\n",
    "\n",
    "for epoch in range(num_epochs):\n",
    "    model.train()\n",
    "    total_loss = 0\n",
    "    for batch in train_dataloader:\n",
    "        optimizer.zero_grad()\n",
    "        input_ids, attention_mask, labels = batch\n",
    "        input_ids, attention_mask, labels = input_ids.to(device), attention_mask.to(device), labels.to(device)\n",
    "        outputs = model(input_ids=input_ids, attention_mask=attention_mask, labels=labels)\n",
    "        loss = outputs.loss\n",
    "        total_loss += loss.item()\n",
    "        loss.backward()\n",
    "        optimizer.step()\n",
    "    average_loss = total_loss / len(train_dataloader)\n",
    "    print(f\"Epoch {epoch + 1}/{num_epochs}, Average Loss: {average_loss:.4f}\")"
   ]
  },
  {
   "cell_type": "code",
   "execution_count": 18,
   "id": "cc46a62b-5894-40bf-b022-0631d6ae99cc",
   "metadata": {},
   "outputs": [],
   "source": [
    "def evaluate_model(model, inputs, labels):\n",
    "    outputs = model(**inputs, labels=labels)\n",
    "    logits = outputs.logits\n",
    "    predictions = torch.argmax(logits, dim=1)\n",
    "    return predictions\n"
   ]
  },
  {
   "cell_type": "code",
   "execution_count": 19,
   "id": "fcd7ea43-7c99-46df-b22c-46e1bebd283a",
   "metadata": {},
   "outputs": [
    {
     "name": "stdout",
     "output_type": "stream",
     "text": [
      "              precision    recall  f1-score   support\n",
      "\n",
      "           0       0.89      0.82      0.85       895\n",
      "           1       0.66      0.76      0.70       395\n",
      "\n",
      "    accuracy                           0.80      1290\n",
      "   macro avg       0.77      0.79      0.78      1290\n",
      "weighted avg       0.82      0.80      0.81      1290\n",
      "\n"
     ]
    }
   ],
   "source": [
    "# Encode test data\n",
    "test_inputs, test_labels = encode_data(test_data)\n",
    "\n",
    "# Perform classification\n",
    "with torch.no_grad():\n",
    "    model.eval()\n",
    "    predictions = evaluate_model(model, test_inputs, test_labels)\n",
    "\n",
    "predictions = predictions.tolist()\n",
    "\n",
    "# Print classification report\n",
    "print(classification_report(test_labels.tolist(), predictions))"
   ]
  },
  {
   "cell_type": "code",
   "execution_count": 1,
   "id": "c7cef1e7-bf05-418d-9ee6-aa5f3c9ed078",
   "metadata": {},
   "outputs": [
    {
     "name": "stdout",
     "output_type": "stream",
     "text": [
      "--2024-03-29 20:51:47--  ftp://ftp.cs.rochester.edu/pub/papers/ai/93.tn2.prosody_and_discourse_structure_in_cooperative_dialogues_text.ps.Z\n",
      "           => ‘93.tn2.prosody_and_discourse_structure_in_cooperative_dialogues_text.ps.Z’\n",
      "Resolving ftp.cs.rochester.edu (ftp.cs.rochester.edu)... 128.151.167.12\n",
      "Connecting to ftp.cs.rochester.edu (ftp.cs.rochester.edu)|128.151.167.12|:21... failed: Connection timed out.\n",
      "Retrying.\n",
      "\n",
      "--2024-03-29 20:53:57--  ftp://ftp.cs.rochester.edu/pub/papers/ai/93.tn2.prosody_and_discourse_structure_in_cooperative_dialogues_text.ps.Z\n",
      "  (try: 2) => ‘93.tn2.prosody_and_discourse_structure_in_cooperative_dialogues_text.ps.Z’\n",
      "Connecting to ftp.cs.rochester.edu (ftp.cs.rochester.edu)|128.151.167.12|:21... failed: Connection timed out.\n",
      "Retrying.\n",
      "\n",
      "--2024-03-29 20:56:09--  ftp://ftp.cs.rochester.edu/pub/papers/ai/93.tn2.prosody_and_discourse_structure_in_cooperative_dialogues_text.ps.Z\n",
      "  (try: 3) => ‘93.tn2.prosody_and_discourse_structure_in_cooperative_dialogues_text.ps.Z’\n",
      "Connecting to ftp.cs.rochester.edu (ftp.cs.rochester.edu)|128.151.167.12|:21... ^C\n"
     ]
    }
   ],
   "source": [
    "!wget ftp://ftp.cs.rochester.edu/pub/papers/ai/93.tn2.prosody_and_discourse_structure_in_cooperative_dialogues_text.ps.Z"
   ]
  },
  {
   "cell_type": "code",
   "execution_count": null,
   "id": "88fc86b7-5790-4e5f-afa1-26cab289f686",
   "metadata": {},
   "outputs": [],
   "source": []
  }
 ],
 "metadata": {
  "kernelspec": {
   "display_name": "Python 3 (ipykernel)",
   "language": "python",
   "name": "python3"
  },
  "language_info": {
   "codemirror_mode": {
    "name": "ipython",
    "version": 3
   },
   "file_extension": ".py",
   "mimetype": "text/x-python",
   "name": "python",
   "nbconvert_exporter": "python",
   "pygments_lexer": "ipython3",
   "version": "3.9.16"
  }
 },
 "nbformat": 4,
 "nbformat_minor": 5
}

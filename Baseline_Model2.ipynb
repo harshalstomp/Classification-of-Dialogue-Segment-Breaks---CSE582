{
  "nbformat": 4,
  "nbformat_minor": 0,
  "metadata": {
    "colab": {
      "provenance": []
    },
    "kernelspec": {
      "name": "python3",
      "display_name": "Python 3"
    },
    "language_info": {
      "name": "python"
    }
  },
  "cells": [
    {
      "cell_type": "markdown",
      "source": [
        "# 1. Experimenting with Logistic Regression"
      ],
      "metadata": {
        "id": "guMWJ8EVqABW"
      }
    },
    {
      "cell_type": "code",
      "source": [
        "# prompt: give access to drive\n",
        "\n",
        "from google.colab import drive\n",
        "drive.mount('/content/drive')\n"
      ],
      "metadata": {
        "colab": {
          "base_uri": "https://localhost:8080/"
        },
        "id": "vWCEO8eCla_1",
        "outputId": "8cd7c1c2-463a-4845-f930-db47763c1b13"
      },
      "execution_count": 1,
      "outputs": [
        {
          "output_type": "stream",
          "name": "stdout",
          "text": [
            "Drive already mounted at /content/drive; to attempt to forcibly remount, call drive.mount(\"/content/drive\", force_remount=True).\n"
          ]
        }
      ]
    },
    {
      "cell_type": "code",
      "source": [
        "%cd /content/drive/MyDrive/Pre-processed dataset"
      ],
      "metadata": {
        "id": "zRLpWSM6mCRW",
        "colab": {
          "base_uri": "https://localhost:8080/"
        },
        "outputId": "d5b87845-7ccb-46a1-eaca-8826d8e92964"
      },
      "execution_count": 3,
      "outputs": [
        {
          "output_type": "stream",
          "name": "stdout",
          "text": [
            "/content/drive/MyDrive/Pre-processed dataset\n"
          ]
        }
      ]
    },
    {
      "cell_type": "code",
      "source": [
        "!ls"
      ],
      "metadata": {
        "id": "bGu5AfYYmxTF",
        "colab": {
          "base_uri": "https://localhost:8080/"
        },
        "outputId": "ca681f44-f67b-4a62-93be-c9e481ec3c1f"
      },
      "execution_count": 4,
      "outputs": [
        {
          "output_type": "stream",
          "name": "stdout",
          "text": [
            "binary_processed_test.csv  binary_processed_train.csv  processed_test.csv  processed_train.csv\n"
          ]
        }
      ]
    },
    {
      "cell_type": "code",
      "execution_count": 5,
      "metadata": {
        "id": "Ud1wdz-bkXMA"
      },
      "outputs": [],
      "source": [
        "import pandas as pd\n",
        "from sklearn.feature_extraction.text import TfidfVectorizer\n",
        "from sklearn.linear_model import LogisticRegression\n",
        "from sklearn.model_selection import train_test_split\n",
        "from sklearn.metrics import classification_report"
      ]
    },
    {
      "cell_type": "code",
      "source": [
        "binary_data = pd.read_csv(\"binary_processed_train.csv\")\n",
        "#binary_data.select_dtypes('O').columns\n",
        "#binary_data.isnull().sum()\n",
        "binary_data.dropna(inplace = True)"
      ],
      "metadata": {
        "colab": {
          "base_uri": "https://localhost:8080/"
        },
        "id": "D8BnVLy0pG4n",
        "outputId": "70fa8c24-4b73-4d8c-be0c-490d9472ed97"
      },
      "execution_count": 7,
      "outputs": [
        {
          "output_type": "execute_result",
          "data": {
            "text/plain": [
              "Index(['category', 'utterance1', 'utterance2', 'utterance1_user',\n",
              "       'utterance1_intent', 'utterance1_text', 'utterance2_user',\n",
              "       'utterance2_intent', 'utterance2_text', 'category_name'],\n",
              "      dtype='object')"
            ]
          },
          "metadata": {},
          "execution_count": 7
        }
      ]
    },
    {
      "cell_type": "code",
      "source": [
        "X = binary_data.drop(columns = 'label', axis = 1)\n",
        "y = binary_data['label']\n",
        "X_train, X_val, y_train, y_val = train_test_split(X, y, test_size=0.25, random_state=42)\n",
        "vectorizer = TfidfVectorizer()\n",
        "X_train_vec = vectorizer.fit_transform(X_train['utterance1'] + \" \" + X_train['utterance2'] + X_train['category'])\n",
        "X_val_vec = vectorizer.transform(X_val['utterance1'] + \" \" + X_val['utterance2'] + X_val['category'])"
      ],
      "metadata": {
        "id": "N71Q4dDsnb0D"
      },
      "execution_count": 43,
      "outputs": []
    },
    {
      "cell_type": "code",
      "source": [
        "## Adjusting class weights is a key to improve performance\n",
        "## For class 0---> 1 (Proportion of class0 data in train.csv is 70% )\n",
        "## For class 1---> 3 (Proportion of class1 data in train.csv is 30% )"
      ],
      "metadata": {
        "id": "wOh5WYbTqYj6"
      },
      "execution_count": null,
      "outputs": []
    },
    {
      "cell_type": "code",
      "source": [
        "model = LogisticRegression(class_weight = {0:1, 1:3})\n",
        "model.fit(X_train_vec, y_train)"
      ],
      "metadata": {
        "colab": {
          "base_uri": "https://localhost:8080/",
          "height": 74
        },
        "id": "pdWbwRByn3jL",
        "outputId": "368a8956-be18-4430-c3b2-4b28e8e19c82"
      },
      "execution_count": 44,
      "outputs": [
        {
          "output_type": "execute_result",
          "data": {
            "text/plain": [
              "LogisticRegression(class_weight={0: 1, 1: 3})"
            ],
            "text/html": [
              "<style>#sk-container-id-4 {color: black;background-color: white;}#sk-container-id-4 pre{padding: 0;}#sk-container-id-4 div.sk-toggleable {background-color: white;}#sk-container-id-4 label.sk-toggleable__label {cursor: pointer;display: block;width: 100%;margin-bottom: 0;padding: 0.3em;box-sizing: border-box;text-align: center;}#sk-container-id-4 label.sk-toggleable__label-arrow:before {content: \"▸\";float: left;margin-right: 0.25em;color: #696969;}#sk-container-id-4 label.sk-toggleable__label-arrow:hover:before {color: black;}#sk-container-id-4 div.sk-estimator:hover label.sk-toggleable__label-arrow:before {color: black;}#sk-container-id-4 div.sk-toggleable__content {max-height: 0;max-width: 0;overflow: hidden;text-align: left;background-color: #f0f8ff;}#sk-container-id-4 div.sk-toggleable__content pre {margin: 0.2em;color: black;border-radius: 0.25em;background-color: #f0f8ff;}#sk-container-id-4 input.sk-toggleable__control:checked~div.sk-toggleable__content {max-height: 200px;max-width: 100%;overflow: auto;}#sk-container-id-4 input.sk-toggleable__control:checked~label.sk-toggleable__label-arrow:before {content: \"▾\";}#sk-container-id-4 div.sk-estimator input.sk-toggleable__control:checked~label.sk-toggleable__label {background-color: #d4ebff;}#sk-container-id-4 div.sk-label input.sk-toggleable__control:checked~label.sk-toggleable__label {background-color: #d4ebff;}#sk-container-id-4 input.sk-hidden--visually {border: 0;clip: rect(1px 1px 1px 1px);clip: rect(1px, 1px, 1px, 1px);height: 1px;margin: -1px;overflow: hidden;padding: 0;position: absolute;width: 1px;}#sk-container-id-4 div.sk-estimator {font-family: monospace;background-color: #f0f8ff;border: 1px dotted black;border-radius: 0.25em;box-sizing: border-box;margin-bottom: 0.5em;}#sk-container-id-4 div.sk-estimator:hover {background-color: #d4ebff;}#sk-container-id-4 div.sk-parallel-item::after {content: \"\";width: 100%;border-bottom: 1px solid gray;flex-grow: 1;}#sk-container-id-4 div.sk-label:hover label.sk-toggleable__label {background-color: #d4ebff;}#sk-container-id-4 div.sk-serial::before {content: \"\";position: absolute;border-left: 1px solid gray;box-sizing: border-box;top: 0;bottom: 0;left: 50%;z-index: 0;}#sk-container-id-4 div.sk-serial {display: flex;flex-direction: column;align-items: center;background-color: white;padding-right: 0.2em;padding-left: 0.2em;position: relative;}#sk-container-id-4 div.sk-item {position: relative;z-index: 1;}#sk-container-id-4 div.sk-parallel {display: flex;align-items: stretch;justify-content: center;background-color: white;position: relative;}#sk-container-id-4 div.sk-item::before, #sk-container-id-4 div.sk-parallel-item::before {content: \"\";position: absolute;border-left: 1px solid gray;box-sizing: border-box;top: 0;bottom: 0;left: 50%;z-index: -1;}#sk-container-id-4 div.sk-parallel-item {display: flex;flex-direction: column;z-index: 1;position: relative;background-color: white;}#sk-container-id-4 div.sk-parallel-item:first-child::after {align-self: flex-end;width: 50%;}#sk-container-id-4 div.sk-parallel-item:last-child::after {align-self: flex-start;width: 50%;}#sk-container-id-4 div.sk-parallel-item:only-child::after {width: 0;}#sk-container-id-4 div.sk-dashed-wrapped {border: 1px dashed gray;margin: 0 0.4em 0.5em 0.4em;box-sizing: border-box;padding-bottom: 0.4em;background-color: white;}#sk-container-id-4 div.sk-label label {font-family: monospace;font-weight: bold;display: inline-block;line-height: 1.2em;}#sk-container-id-4 div.sk-label-container {text-align: center;}#sk-container-id-4 div.sk-container {/* jupyter's `normalize.less` sets `[hidden] { display: none; }` but bootstrap.min.css set `[hidden] { display: none !important; }` so we also need the `!important` here to be able to override the default hidden behavior on the sphinx rendered scikit-learn.org. See: https://github.com/scikit-learn/scikit-learn/issues/21755 */display: inline-block !important;position: relative;}#sk-container-id-4 div.sk-text-repr-fallback {display: none;}</style><div id=\"sk-container-id-4\" class=\"sk-top-container\"><div class=\"sk-text-repr-fallback\"><pre>LogisticRegression(class_weight={0: 1, 1: 3})</pre><b>In a Jupyter environment, please rerun this cell to show the HTML representation or trust the notebook. <br />On GitHub, the HTML representation is unable to render, please try loading this page with nbviewer.org.</b></div><div class=\"sk-container\" hidden><div class=\"sk-item\"><div class=\"sk-estimator sk-toggleable\"><input class=\"sk-toggleable__control sk-hidden--visually\" id=\"sk-estimator-id-4\" type=\"checkbox\" checked><label for=\"sk-estimator-id-4\" class=\"sk-toggleable__label sk-toggleable__label-arrow\">LogisticRegression</label><div class=\"sk-toggleable__content\"><pre>LogisticRegression(class_weight={0: 1, 1: 3})</pre></div></div></div></div></div>"
            ]
          },
          "metadata": {},
          "execution_count": 44
        }
      ]
    },
    {
      "cell_type": "markdown",
      "source": [
        "## Input Parameters\n",
        "1) utterance1\n",
        "\n",
        "2) utterance2\n",
        "\n",
        "3) category\n"
      ],
      "metadata": {
        "id": "NKu9IrZDohXM"
      }
    },
    {
      "cell_type": "code",
      "source": [
        "y_pred = model.predict(X_val_vec)\n",
        "print(classification_report(y_val, y_pred))"
      ],
      "metadata": {
        "colab": {
          "base_uri": "https://localhost:8080/"
        },
        "id": "khDLh9Sfn6C0",
        "outputId": "45056c64-1eb8-473a-9620-bf7db9ad7cfe"
      },
      "execution_count": 45,
      "outputs": [
        {
          "output_type": "stream",
          "name": "stdout",
          "text": [
            "              precision    recall  f1-score   support\n",
            "\n",
            "           0       0.87      0.78      0.82       892\n",
            "           1       0.58      0.73      0.64       376\n",
            "\n",
            "    accuracy                           0.76      1268\n",
            "   macro avg       0.72      0.75      0.73      1268\n",
            "weighted avg       0.78      0.76      0.77      1268\n",
            "\n"
          ]
        }
      ]
    },
    {
      "cell_type": "markdown",
      "source": [
        "## Input parameters\n",
        "1) utterance1\n",
        "\n",
        "2) utterance2_text\n",
        "\n",
        "3) category"
      ],
      "metadata": {
        "id": "Vnpoidx3o8UW"
      }
    },
    {
      "cell_type": "code",
      "source": [
        "X = binary_data.drop(columns = 'label', axis = 1)\n",
        "y = binary_data['label']\n",
        "X_train, X_val, y_train, y_val = train_test_split(X, y, test_size=0.25, random_state=42)\n",
        "vectorizer = TfidfVectorizer()\n",
        "X_train_vec = vectorizer.fit_transform(X_train['utterance1'] + \" \" + X_train['utterance2_text'] + \" \" + X_train['category'])\n",
        "X_val_vec = vectorizer.transform(X_val['utterance1'] + \" \" + X_val['utterance2_text'] + \" \" + X_val['category'])"
      ],
      "metadata": {
        "id": "tL_21VbfjorU"
      },
      "execution_count": 59,
      "outputs": []
    },
    {
      "cell_type": "code",
      "source": [
        "model = LogisticRegression(class_weight = {0:1, 1:3})\n",
        "model.fit(X_train_vec, y_train)\n",
        "y_pred = model.predict(X_val_vec)\n",
        "print(classification_report(y_val, y_pred))"
      ],
      "metadata": {
        "colab": {
          "base_uri": "https://localhost:8080/"
        },
        "id": "nOOV91xXkFht",
        "outputId": "209066c4-0f8c-4b21-f38b-95d153fe01ae"
      },
      "execution_count": 55,
      "outputs": [
        {
          "output_type": "stream",
          "name": "stdout",
          "text": [
            "              precision    recall  f1-score   support\n",
            "\n",
            "           0       0.87      0.76      0.81       892\n",
            "           1       0.56      0.72      0.63       376\n",
            "\n",
            "    accuracy                           0.75      1268\n",
            "   macro avg       0.71      0.74      0.72      1268\n",
            "weighted avg       0.78      0.75      0.76      1268\n",
            "\n"
          ]
        }
      ]
    },
    {
      "cell_type": "markdown",
      "source": [
        "## Observation:\n",
        "\n",
        "- Using utterance1 vs utterance2's text part alone performs really better than utterance1 vs utterance2\n",
        "- category term doesn't play a significant role (no change in scores)\n",
        "\n"
      ],
      "metadata": {
        "id": "PVk-1oa7pgRw"
      }
    },
    {
      "cell_type": "markdown",
      "source": [
        "# 2. Experimenting with SVM"
      ],
      "metadata": {
        "id": "yVZnlejhtkJP"
      }
    },
    {
      "cell_type": "code",
      "source": [
        "from sklearn.svm import SVC\n",
        "X_train_vec = vectorizer.fit_transform(X_train['utterance1'] + \" \" + X_train['utterance2_text'] + X_train['category'])\n",
        "X_val_vec = vectorizer.transform(X_val['utterance1'] + \" \" + X_val['utterance2_text'] + X_val['category'])\n",
        "# Create the SVM model with class weights\n",
        "svm_model = SVC(class_weight={0: 1, 1: 3})\n",
        "svm_model.fit(X_train_vec, y_train)\n",
        "y_pred = svm_model.predict(X_val_vec)\n",
        "print(classification_report(y_val, y_pred))\n",
        "\n",
        "'''\n",
        "For instance, a random model's result is:\n",
        "● Label 0: Precision: 0.71, Recall: 0.49, F1: 0.58\n",
        "● Label 1: Precision: 0.29, Recall: 0.51, F1: 0.37\n",
        "● Overall: Precision: 0.50, Recall: 0.50 F1: 0.48\n",
        "'''"
      ],
      "metadata": {
        "colab": {
          "base_uri": "https://localhost:8080/",
          "height": 209
        },
        "id": "0hPWgGLsr4Tu",
        "outputId": "5cf1a406-99a9-4ac1-e52e-2f009d039497"
      },
      "execution_count": 66,
      "outputs": [
        {
          "output_type": "stream",
          "name": "stdout",
          "text": [
            "              precision    recall  f1-score   support\n",
            "\n",
            "           0       0.84      0.84      0.84       892\n",
            "           1       0.62      0.62      0.62       376\n",
            "\n",
            "    accuracy                           0.78      1268\n",
            "   macro avg       0.73      0.73      0.73      1268\n",
            "weighted avg       0.78      0.78      0.78      1268\n",
            "\n"
          ]
        },
        {
          "output_type": "execute_result",
          "data": {
            "text/plain": [
              "\"\\nFor instance, a random model's result is:\\n● Label 0: Precision: 0.71, Recall: 0.49, F1: 0.58\\n● Label 1: Precision: 0.29, Recall: 0.51, F1: 0.37\\n● Overall: Precision: 0.50, Recall: 0.50 F1: 0.48\\n\""
            ],
            "application/vnd.google.colaboratory.intrinsic+json": {
              "type": "string"
            }
          },
          "metadata": {},
          "execution_count": 66
        }
      ]
    },
    {
      "cell_type": "markdown",
      "source": [
        "## Observation:\n",
        "\n",
        "- Input utterance1, utterance2's text part alone with category performs good than other combinations"
      ],
      "metadata": {
        "id": "KYN_D46SvM_r"
      }
    },
    {
      "cell_type": "markdown",
      "source": [
        "# 3. Experimenting with Random Forest Classifier"
      ],
      "metadata": {
        "id": "vPvINC6OuQtc"
      }
    },
    {
      "cell_type": "code",
      "source": [
        "from sklearn.ensemble import RandomForestClassifier\n",
        "X_train_vec = vectorizer.fit_transform(X_train['utterance1'] + \" \" + X_train['utterance2_text'] + X_train['category'])\n",
        "X_val_vec = vectorizer.transform(X_val['utterance1'] + \" \" + X_val['utterance2_text'] + X_val['category'])\n",
        "# Create the Random Forest model with class weights\n",
        "rf_model = RandomForestClassifier(class_weight={0: 1, 1: 3})\n",
        "rf_model.fit(X_train_vec, y_train)\n",
        "y_pred = rf_model.predict(X_val_vec)\n",
        "print(classification_report(y_val, y_pred))\n",
        "\n",
        "'''\n",
        "For instance, a random model's result is:\n",
        "● Label 0: Precision: 0.71, Recall: 0.49, F1: 0.58\n",
        "● Label 1: Precision: 0.29, Recall: 0.51, F1: 0.37\n",
        "● Overall: Precision: 0.50, Recall: 0.50 F1: 0.48\n",
        "'''"
      ],
      "metadata": {
        "colab": {
          "base_uri": "https://localhost:8080/",
          "height": 209
        },
        "id": "-rAr9_lmsUNo",
        "outputId": "10238693-d138-483d-9615-edd38070450c"
      },
      "execution_count": 68,
      "outputs": [
        {
          "output_type": "stream",
          "name": "stdout",
          "text": [
            "              precision    recall  f1-score   support\n",
            "\n",
            "           0       0.80      0.93      0.86       892\n",
            "           1       0.74      0.44      0.55       376\n",
            "\n",
            "    accuracy                           0.79      1268\n",
            "   macro avg       0.77      0.69      0.71      1268\n",
            "weighted avg       0.78      0.79      0.77      1268\n",
            "\n"
          ]
        },
        {
          "output_type": "execute_result",
          "data": {
            "text/plain": [
              "\"\\nFor instance, a random model's result is:\\n● Label 0: Precision: 0.71, Recall: 0.49, F1: 0.58\\n● Label 1: Precision: 0.29, Recall: 0.51, F1: 0.37\\n● Overall: Precision: 0.50, Recall: 0.50 F1: 0.48\\n\""
            ],
            "application/vnd.google.colaboratory.intrinsic+json": {
              "type": "string"
            }
          },
          "metadata": {},
          "execution_count": 68
        }
      ]
    },
    {
      "cell_type": "markdown",
      "source": [
        "## Observation:\n",
        "- Even though the overall performance of RF is better than LR and SVM, it fails with class 1 recall threshold\n",
        "- adjusting the class weights didn't improve the score\n"
      ],
      "metadata": {
        "id": "IHE0liOduCW-"
      }
    }
  ]
}